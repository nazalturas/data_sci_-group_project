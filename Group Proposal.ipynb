{
 "cells": [
  {
   "cell_type": "markdown",
   "id": "80ee214c-6cab-475a-89cc-e1fca8887efe",
   "metadata": {},
   "source": [
    "# Group Proposal.\r\n",
    "\r\n",
    "\r\n",
    "## Title: The Future of the Heart\r\n",
    "### Introduction:\r\n",
    "\r\n",
    "Many say the heart is the main part of our body, and that is generally true! Our heart performs the difficult task of pumping blood to the whole body and consequently making sure the body has all it needs to function properly. Sadly, the heart is also not perfect and can be negatively impacted in a bunch of different ways, causing heart diseases. Some of them are diabetes, hypertension, high cholesterol and many others.\r\n",
    "So, the aim of this project is based on different types of clinical measurements (heart-related), to predict if someone has a heart disease. To do that, our group is going to be using classification and the KNN algorithm to answer: “Based on heart-related clinical measurements, does this person have heart disease?”.\r\n",
    "For this, we are going to be using a Heart Disease data set, collected by the University of California Irvine, which contains data regarding blood pressure, cholesterol levels, sugar levels in the blood and many more. All this data was collected from 4 different regions around the world, being them: Cleveland (USA), Hungary, Switzerland, and California (USA).\r\n",
    "\r\n",
    "\r\n",
    "### Preliminary Data Analysis:\r\n",
    "In the code below, we read all the data here into R, merged the four different data tables into one, and removed all the NA values - in this case being `?`.\r\n",
    "\r\n",
    "For the visualization we chose a bar graph, contrasting `age` with `narrowing`, where `narrowing` indicates that if the number is equal to or bigger than one, the person has a blood vessel narrowing bigger than 50%, and therefore is a good indicator of heart disease. \r\n",
    "### Methods:\r\n",
    "\r\n",
    "We are most likely going to be using the `narrowing` (previously `num`) column as one of our main predictors, but also we might use `chol` which indicates cholesterol levels, `trestbps` which indicates resting blood pressure and lastly `fbs` which represents fasting blood sugar levels; all of those for predicting if one has a heart disease or not. We are also going to use `sex` and `age` to see if we can find any particular trend among these variables related to the measurement previously cited.\r\n",
    "We will visualize the results by inputting a new observations data set, and see if our workflow correctly predicts if the person has a heart disease or not.\r\n",
    "\r\n",
    "### Expected outcomes and significance:\r\n",
    "\r\n",
    "We expect to create an effective classification algorithm, in a way that based on simple blood measurements, can predict if someone has a heart disease. If we manage to accomplish this, this algorithm could have a great impact in the health industry, helping doctors, nurses and professionals from this area to have accurate diagnoses more quickly, and therefore decreasing waiting times for exam results interpretations. And in the future, this could lead to more algorithms following this same idea, but for more areas within the health industry, for example, gastrointestinal diseases.\r\n",
    "\r\n",
    "\r\n"
   ]
  },
  {
   "cell_type": "code",
   "execution_count": null,
   "id": "c2946529-3e69-4aae-b040-6f2fb0565473",
   "metadata": {},
   "outputs": [],
   "source": []
  }
 ],
 "metadata": {
  "kernelspec": {
   "display_name": "R",
   "language": "R",
   "name": "ir"
  },
  "language_info": {
   "codemirror_mode": "r",
   "file_extension": ".r",
   "mimetype": "text/x-r-source",
   "name": "R",
   "pygments_lexer": "r",
   "version": "4.3.1"
  }
 },
 "nbformat": 4,
 "nbformat_minor": 5
}
