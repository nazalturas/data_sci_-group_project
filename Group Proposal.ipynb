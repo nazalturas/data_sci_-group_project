{
 "cells": [
  {
   "cell_type": "markdown",
   "id": "627171b8-a456-46db-8b16-032d2b7d1d3f",
   "metadata": {},
   "source": [
    "# Group Proposal.\n",
    "\n",
    "\n",
    "## Title: The Future of the Heart\r\n",
    "### Introduction:\n",
    "\n",
    "Many say the heart is the main part of our body, and that is generally true! Our heart performs the difficult task of pumping blood to the whole body and consequently making sure the body has all it needs to function properly. Sadly, the heart is also not perfect and can be negatively impacted in a bunch of different ways, causing heart diseases. Some of them are diabetes, hypertension, high cholesterol and many others.\r\n",
    "So, the aim of this project is based on different types of clinical measurements (heart-related), to predict if someone has a heart disease, and if so, which one is it. To do that, our group is going to be using classification and the KNN algorithm to answer: “Based on heart-related clinical measurements, does this person have heart disease? And if so, which one is it?”.\r\n",
    "For this, we are going to be using a Heart Disease data set, collected by the University of California Irvine, which contains data regarding blood pressure, cholesterol levels, sugar levels in the blood and many more. All this data was collected from 4 different regions around the world, being them: Cleveland (USA), Hungary, Switzerland, Virginia (USA)\n",
    "### Preliminary Data Analysis: .\r\n",
    "\n"
   ]
  },
  {
   "cell_type": "code",
   "execution_count": null,
   "id": "95118cb0-9ee6-4f06-9073-799569f32108",
   "metadata": {},
   "outputs": [],
   "source": []
  }
 ],
 "metadata": {
  "kernelspec": {
   "display_name": "",
   "name": ""
  },
  "language_info": {
   "name": ""
  }
 },
 "nbformat": 4,
 "nbformat_minor": 5
}
